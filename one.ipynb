{
 "cells": [
  {
   "cell_type": "code",
   "execution_count": null,
   "id": "670b89cb-2cae-430a-86ea-bffaa2ac5681",
   "metadata": {},
   "outputs": [],
   "source": [
    "# FIRST CLASS"
   ]
  },
  {
   "cell_type": "code",
   "execution_count": null,
   "id": "71505826-5b26-4d99-9270-59e7797adb41",
   "metadata": {},
   "outputs": [],
   "source": [
    "# Tushar kanta parida"
   ]
  },
  {
   "cell_type": "code",
   "execution_count": 1,
   "id": "5cf15142-84fc-419c-abf0-c0c3133345ea",
   "metadata": {},
   "outputs": [
    {
     "data": {
      "text/plain": [
       "8"
      ]
     },
     "execution_count": 1,
     "metadata": {},
     "output_type": "execute_result"
    }
   ],
   "source": [
    "2**3"
   ]
  },
  {
   "cell_type": "code",
   "execution_count": 2,
   "id": "f4f14a42-e8de-4725-99d6-92235e3f53ad",
   "metadata": {},
   "outputs": [
    {
     "data": {
      "text/plain": [
       "105"
      ]
     },
     "execution_count": 2,
     "metadata": {},
     "output_type": "execute_result"
    }
   ],
   "source": [
    "2+10*10+3"
   ]
  },
  {
   "cell_type": "code",
   "execution_count": 3,
   "id": "cc7fcc8f-017d-485c-8d3c-a816d7b30160",
   "metadata": {},
   "outputs": [
    {
     "data": {
      "text/plain": [
       "150"
      ]
     },
     "execution_count": 3,
     "metadata": {},
     "output_type": "execute_result"
    }
   ],
   "source": [
    "10*15"
   ]
  },
  {
   "cell_type": "code",
   "execution_count": 4,
   "id": "63817fef-79b7-4599-94b2-4d511b5bcd7e",
   "metadata": {},
   "outputs": [
    {
     "data": {
      "text/plain": [
       "156"
      ]
     },
     "execution_count": 4,
     "metadata": {},
     "output_type": "execute_result"
    }
   ],
   "source": [
    "12*13"
   ]
  },
  {
   "cell_type": "code",
   "execution_count": 5,
   "id": "3a5b223a-449a-43aa-916f-38559c82e0e4",
   "metadata": {},
   "outputs": [
    {
     "data": {
      "text/plain": [
       "156"
      ]
     },
     "execution_count": 5,
     "metadata": {},
     "output_type": "execute_result"
    }
   ],
   "source": [
    "(2+10)*(10+3)"
   ]
  },
  {
   "cell_type": "code",
   "execution_count": 6,
   "id": "00fc5532-9969-43e4-baf5-614639cbfeb1",
   "metadata": {},
   "outputs": [],
   "source": [
    "x,y=30,40"
   ]
  },
  {
   "cell_type": "code",
   "execution_count": 7,
   "id": "90889e4c-8b18-4d6d-a074-6017229c320a",
   "metadata": {},
   "outputs": [],
   "source": [
    "super=x*y"
   ]
  },
  {
   "cell_type": "code",
   "execution_count": 8,
   "id": "b36824a1-9a68-4663-83b7-1c376a1af35d",
   "metadata": {},
   "outputs": [
    {
     "data": {
      "text/plain": [
       "1200"
      ]
     },
     "execution_count": 8,
     "metadata": {},
     "output_type": "execute_result"
    }
   ],
   "source": [
    "super"
   ]
  },
  {
   "cell_type": "code",
   "execution_count": 9,
   "id": "868d8ccf-d6d2-44d6-b670-13e614645154",
   "metadata": {},
   "outputs": [],
   "source": [
    "my_income=200"
   ]
  },
  {
   "cell_type": "code",
   "execution_count": 10,
   "id": "e07c3db7-0889-4966-b65a-a03a4e194ecc",
   "metadata": {},
   "outputs": [],
   "source": [
    "tax_rate=0.3"
   ]
  },
  {
   "cell_type": "code",
   "execution_count": 11,
   "id": "b642ebac-2543-4a0f-8af5-cc90af50c92b",
   "metadata": {},
   "outputs": [],
   "source": [
    "my_taxes=my_income*tax_rate"
   ]
  },
  {
   "cell_type": "code",
   "execution_count": 12,
   "id": "9340b16c-7f45-41ce-9e03-73dc150f1796",
   "metadata": {},
   "outputs": [
    {
     "data": {
      "text/plain": [
       "60.0"
      ]
     },
     "execution_count": 12,
     "metadata": {},
     "output_type": "execute_result"
    }
   ],
   "source": [
    "my_taxes"
   ]
  },
  {
   "cell_type": "code",
   "execution_count": 13,
   "id": "bcfc1854-ddde-4f1c-a2c9-d14809a98746",
   "metadata": {},
   "outputs": [
    {
     "data": {
      "text/plain": [
       "float"
      ]
     },
     "execution_count": 13,
     "metadata": {},
     "output_type": "execute_result"
    }
   ],
   "source": [
    "type(my_taxes)"
   ]
  },
  {
   "cell_type": "code",
   "execution_count": 14,
   "id": "75e91c35-492c-472a-935b-e1c58048ecea",
   "metadata": {},
   "outputs": [
    {
     "data": {
      "text/plain": [
       "float"
      ]
     },
     "execution_count": 14,
     "metadata": {},
     "output_type": "execute_result"
    }
   ],
   "source": [
    "type(90.0)"
   ]
  },
  {
   "cell_type": "code",
   "execution_count": 15,
   "id": "4531f040-1f1c-4669-a3dd-4d954646508d",
   "metadata": {},
   "outputs": [],
   "source": [
    "a=10"
   ]
  },
  {
   "cell_type": "code",
   "execution_count": 16,
   "id": "0d29ae46-2033-40a1-a68d-de34669c69ea",
   "metadata": {},
   "outputs": [],
   "source": [
    "a+=10"
   ]
  },
  {
   "cell_type": "code",
   "execution_count": 18,
   "id": "5f67b840-8b55-4bea-b610-6a62a051c708",
   "metadata": {},
   "outputs": [
    {
     "data": {
      "text/plain": [
       "20"
      ]
     },
     "execution_count": 18,
     "metadata": {},
     "output_type": "execute_result"
    }
   ],
   "source": [
    "a"
   ]
  },
  {
   "cell_type": "code",
   "execution_count": 20,
   "id": "3bf3cbd3-b988-420b-a2bd-7451f5637152",
   "metadata": {},
   "outputs": [],
   "source": [
    "name='Tushar'"
   ]
  },
  {
   "cell_type": "code",
   "execution_count": 21,
   "id": "278ea75c-11f8-4204-be5a-610886fbba88",
   "metadata": {},
   "outputs": [],
   "source": [
    "name=name+' '+'Kanta'"
   ]
  },
  {
   "cell_type": "code",
   "execution_count": 22,
   "id": "6d8403d3-df5d-4a31-93fd-d83ba945c56e",
   "metadata": {},
   "outputs": [
    {
     "data": {
      "text/plain": [
       "'Tushar Kanta'"
      ]
     },
     "execution_count": 22,
     "metadata": {},
     "output_type": "execute_result"
    }
   ],
   "source": [
    "name"
   ]
  },
  {
   "cell_type": "code",
   "execution_count": 23,
   "id": "a51fc09b-2898-4dca-9e87-0cf3fe95caac",
   "metadata": {},
   "outputs": [],
   "source": [
    "name=name+' '+'Parida'"
   ]
  },
  {
   "cell_type": "code",
   "execution_count": 24,
   "id": "ba47d643-9833-4118-bd74-dce682bf3cd7",
   "metadata": {},
   "outputs": [
    {
     "data": {
      "text/plain": [
       "'Tushar Kanta Parida'"
      ]
     },
     "execution_count": 24,
     "metadata": {},
     "output_type": "execute_result"
    }
   ],
   "source": [
    "name"
   ]
  },
  {
   "cell_type": "code",
   "execution_count": 25,
   "id": "3fffb8ba-5446-4083-a365-b590502f19f9",
   "metadata": {},
   "outputs": [],
   "source": [
    "name+='Lulu'"
   ]
  },
  {
   "cell_type": "code",
   "execution_count": 26,
   "id": "23570c15-1f2d-4142-ae8c-55dc244fca16",
   "metadata": {},
   "outputs": [
    {
     "data": {
      "text/plain": [
       "'Tushar Kanta ParidaLulu'"
      ]
     },
     "execution_count": 26,
     "metadata": {},
     "output_type": "execute_result"
    }
   ],
   "source": [
    "name"
   ]
  },
  {
   "cell_type": "code",
   "execution_count": 2,
   "id": "17a89cf8-a6ed-45f1-af95-6d8a15622fac",
   "metadata": {},
   "outputs": [],
   "source": [
    "a=(10,20)"
   ]
  },
  {
   "cell_type": "code",
   "execution_count": 3,
   "id": "d58ba706-cb18-4f53-81fb-bf8752674bbc",
   "metadata": {},
   "outputs": [
    {
     "data": {
      "text/plain": [
       "(10, 20)"
      ]
     },
     "execution_count": 3,
     "metadata": {},
     "output_type": "execute_result"
    }
   ],
   "source": [
    "a"
   ]
  },
  {
   "cell_type": "code",
   "execution_count": 4,
   "id": "847cad72-b1c0-4ef3-8e2d-d86f8b3899de",
   "metadata": {},
   "outputs": [],
   "source": [
    "a=(['Tushar','Priya'])"
   ]
  },
  {
   "cell_type": "code",
   "execution_count": 6,
   "id": "6d4b8599-972b-4689-a522-fea3062c3cc7",
   "metadata": {},
   "outputs": [
    {
     "data": {
      "text/plain": [
       "list"
      ]
     },
     "execution_count": 6,
     "metadata": {},
     "output_type": "execute_result"
    }
   ],
   "source": [
    "type(a)"
   ]
  },
  {
   "cell_type": "code",
   "execution_count": 7,
   "id": "d0efda31-23a0-49df-8b3c-6b2f419fc5e0",
   "metadata": {},
   "outputs": [],
   "source": [
    "a=10\n",
    "b=20"
   ]
  },
  {
   "cell_type": "code",
   "execution_count": 8,
   "id": "577377ff-0451-4901-b721-e02a4077fcef",
   "metadata": {},
   "outputs": [
    {
     "data": {
      "text/plain": [
       "10"
      ]
     },
     "execution_count": 8,
     "metadata": {},
     "output_type": "execute_result"
    }
   ],
   "source": [
    "a"
   ]
  },
  {
   "cell_type": "code",
   "execution_count": 9,
   "id": "67961031-4c6b-4468-8574-ba76b2afd38f",
   "metadata": {},
   "outputs": [
    {
     "data": {
      "text/plain": [
       "20"
      ]
     },
     "execution_count": 9,
     "metadata": {},
     "output_type": "execute_result"
    }
   ],
   "source": [
    "b"
   ]
  },
  {
   "cell_type": "code",
   "execution_count": 10,
   "id": "ec225b81-419a-4638-ba96-77f81d1e7e2b",
   "metadata": {},
   "outputs": [
    {
     "data": {
      "text/plain": [
       "False"
      ]
     },
     "execution_count": 10,
     "metadata": {},
     "output_type": "execute_result"
    }
   ],
   "source": [
    "a>b"
   ]
  },
  {
   "cell_type": "code",
   "execution_count": 11,
   "id": "8c25b1b4-9025-495b-849a-cb87b9b5b057",
   "metadata": {},
   "outputs": [],
   "source": [
    "a={1,2,3,4,5}"
   ]
  },
  {
   "cell_type": "code",
   "execution_count": 12,
   "id": "4562ba92-3715-420f-86a3-e27a69aa053b",
   "metadata": {},
   "outputs": [
    {
     "data": {
      "text/plain": [
       "set"
      ]
     },
     "execution_count": 12,
     "metadata": {},
     "output_type": "execute_result"
    }
   ],
   "source": [
    "type(a)"
   ]
  },
  {
   "cell_type": "code",
   "execution_count": 13,
   "id": "c766010a-4832-43a9-b7f4-05b85963cd9c",
   "metadata": {},
   "outputs": [],
   "source": [
    "a=\"Tushar\"\n",
    "b='Kanta'"
   ]
  },
  {
   "cell_type": "code",
   "execution_count": 14,
   "id": "fffd55d3-f1b9-43e3-aab5-847ece2c7b17",
   "metadata": {},
   "outputs": [
    {
     "data": {
      "text/plain": [
       "str"
      ]
     },
     "execution_count": 14,
     "metadata": {},
     "output_type": "execute_result"
    }
   ],
   "source": [
    "type(a)"
   ]
  },
  {
   "cell_type": "code",
   "execution_count": 15,
   "id": "e4dcf575-bb60-4189-92c2-26f5209dd805",
   "metadata": {},
   "outputs": [
    {
     "data": {
      "text/plain": [
       "str"
      ]
     },
     "execution_count": 15,
     "metadata": {},
     "output_type": "execute_result"
    }
   ],
   "source": [
    "type(b)"
   ]
  },
  {
   "cell_type": "code",
   "execution_count": 16,
   "id": "3e877fd8-71b3-4043-a130-5ac24568c23f",
   "metadata": {},
   "outputs": [],
   "source": [
    "thisdict =\t{\n",
    "  \"brand\": \"Ford\",\n",
    "  \"model\": \"Mustang\",\n",
    "  \"year\": 1964\n",
    "}"
   ]
  },
  {
   "cell_type": "code",
   "execution_count": 17,
   "id": "8fcfc2f7-e1a5-44f7-a043-7b8dbdaa6897",
   "metadata": {},
   "outputs": [
    {
     "data": {
      "text/plain": [
       "{'brand': 'Ford', 'model': 'Mustang', 'year': 1964}"
      ]
     },
     "execution_count": 17,
     "metadata": {},
     "output_type": "execute_result"
    }
   ],
   "source": [
    "thisdict"
   ]
  },
  {
   "cell_type": "code",
   "execution_count": 18,
   "id": "168f4ff4-ed75-4098-9d91-e16a84f651d3",
   "metadata": {},
   "outputs": [
    {
     "data": {
      "text/plain": [
       "dict"
      ]
     },
     "execution_count": 18,
     "metadata": {},
     "output_type": "execute_result"
    }
   ],
   "source": [
    "type(thisdict)"
   ]
  },
  {
   "cell_type": "code",
   "execution_count": 19,
   "id": "71c67e5a-f839-40f0-aa5a-c5f7b79184ef",
   "metadata": {},
   "outputs": [],
   "source": [
    "a=\"tushar\""
   ]
  },
  {
   "cell_type": "code",
   "execution_count": 20,
   "id": "bc03593a-187e-4878-81a1-2170a782eeea",
   "metadata": {},
   "outputs": [
    {
     "data": {
      "text/plain": [
       "'t'"
      ]
     },
     "execution_count": 20,
     "metadata": {},
     "output_type": "execute_result"
    }
   ],
   "source": [
    "a[0]"
   ]
  },
  {
   "cell_type": "code",
   "execution_count": 21,
   "id": "87993a45-63c3-4f43-9316-a6d7ed1d8af0",
   "metadata": {},
   "outputs": [
    {
     "data": {
      "text/plain": [
       "'r'"
      ]
     },
     "execution_count": 21,
     "metadata": {},
     "output_type": "execute_result"
    }
   ],
   "source": [
    "a[5]"
   ]
  },
  {
   "cell_type": "code",
   "execution_count": 22,
   "id": "d3cdedaa-f498-4f61-bf2f-1b10b272d1ee",
   "metadata": {},
   "outputs": [],
   "source": [
    "fruits = ['apple', 'banana', 'cherry']"
   ]
  },
  {
   "cell_type": "code",
   "execution_count": 23,
   "id": "68eb6e82-8e6a-417e-8110-cb4586869bf8",
   "metadata": {},
   "outputs": [],
   "source": [
    "x = fruits.index(\"cherry\")"
   ]
  },
  {
   "cell_type": "code",
   "execution_count": 24,
   "id": "67df434b-737e-4f12-b934-9e07218b15b7",
   "metadata": {},
   "outputs": [
    {
     "data": {
      "text/plain": [
       "2"
      ]
     },
     "execution_count": 24,
     "metadata": {},
     "output_type": "execute_result"
    }
   ],
   "source": [
    "x"
   ]
  },
  {
   "cell_type": "code",
   "execution_count": 25,
   "id": "6f622411-40af-4720-9089-24914d9bfe88",
   "metadata": {},
   "outputs": [
    {
     "data": {
      "text/plain": [
       "['apple', 'banana', 'cherry']"
      ]
     },
     "execution_count": 25,
     "metadata": {},
     "output_type": "execute_result"
    }
   ],
   "source": [
    "fruits"
   ]
  },
  {
   "cell_type": "code",
   "execution_count": 26,
   "id": "7ebb972c-a713-42a8-8dd4-a96b2d01c620",
   "metadata": {},
   "outputs": [],
   "source": [
    "name='Manoranjan'"
   ]
  },
  {
   "cell_type": "code",
   "execution_count": 27,
   "id": "55175486-1ce7-40ca-b4a3-01922d500fb4",
   "metadata": {},
   "outputs": [
    {
     "data": {
      "text/plain": [
       "'Mnrna'"
      ]
     },
     "execution_count": 27,
     "metadata": {},
     "output_type": "execute_result"
    }
   ],
   "source": [
    "name[0::2]"
   ]
  },
  {
   "cell_type": "code",
   "execution_count": 2,
   "id": "48441a27-07bc-4b72-92cc-571782d31bc0",
   "metadata": {},
   "outputs": [
    {
     "name": "stdout",
     "output_type": "stream",
     "text": [
      "Model S Model 3|"
     ]
    }
   ],
   "source": [
    "print(\"Model S\" , \"Model 3\" , end=\"|\")"
   ]
  },
  {
   "cell_type": "code",
   "execution_count": 2,
   "id": "07308545-cb59-40b7-be9c-8487d7337c6f",
   "metadata": {},
   "outputs": [],
   "source": [
    "s=\"Tushar\""
   ]
  },
  {
   "cell_type": "code",
   "execution_count": 3,
   "id": "4b872bdb-3c05-4032-94c6-0ba312b639a8",
   "metadata": {},
   "outputs": [
    {
     "data": {
      "text/plain": [
       "'Tushar'"
      ]
     },
     "execution_count": 3,
     "metadata": {},
     "output_type": "execute_result"
    }
   ],
   "source": [
    "s"
   ]
  },
  {
   "cell_type": "code",
   "execution_count": 3,
   "id": "741a6fbe-e4f6-4daa-b014-8ff3f0b32a38",
   "metadata": {},
   "outputs": [
    {
     "data": {
      "text/plain": [
       "'tushar'"
      ]
     },
     "execution_count": 3,
     "metadata": {},
     "output_type": "execute_result"
    }
   ],
   "source": [
    "s.lower()"
   ]
  },
  {
   "cell_type": "code",
   "execution_count": 4,
   "id": "f8041d0e-b3e7-4e02-b851-009ae8e44d60",
   "metadata": {},
   "outputs": [
    {
     "data": {
      "text/plain": [
       "'Tushar'"
      ]
     },
     "execution_count": 4,
     "metadata": {},
     "output_type": "execute_result"
    }
   ],
   "source": [
    "s"
   ]
  },
  {
   "cell_type": "code",
   "execution_count": 6,
   "id": "686193a3-7e64-403e-9cd4-f5be00fe6ad9",
   "metadata": {},
   "outputs": [
    {
     "data": {
      "text/plain": [
       "'TUSHAR'"
      ]
     },
     "execution_count": 6,
     "metadata": {},
     "output_type": "execute_result"
    }
   ],
   "source": [
    "s.upper()"
   ]
  },
  {
   "cell_type": "code",
   "execution_count": 7,
   "id": "3b86a848-e8f1-48ac-8ba4-f469b3b3e569",
   "metadata": {},
   "outputs": [],
   "source": [
    "s=\"I am tushar kanta parida\""
   ]
  },
  {
   "cell_type": "code",
   "execution_count": 8,
   "id": "41d657cb-bb72-480c-b509-b7dc2d594b85",
   "metadata": {},
   "outputs": [
    {
     "data": {
      "text/plain": [
       "['I', 'am', 'tushar', 'kanta', 'parida']"
      ]
     },
     "execution_count": 8,
     "metadata": {},
     "output_type": "execute_result"
    }
   ],
   "source": [
    "s.split()"
   ]
  },
  {
   "cell_type": "code",
   "execution_count": 15,
   "id": "52310ad1-8231-4b8f-a2a6-19404a4c37b9",
   "metadata": {},
   "outputs": [],
   "source": [
    "myclass=[s.upper().split()]"
   ]
  },
  {
   "cell_type": "code",
   "execution_count": 16,
   "id": "92b072f8-bca8-4a63-ad09-b5e1bb9f6bea",
   "metadata": {},
   "outputs": [
    {
     "data": {
      "text/plain": [
       "[['I', 'AM', 'TUSHAR', 'KANTA', 'PARIDA']]"
      ]
     },
     "execution_count": 16,
     "metadata": {},
     "output_type": "execute_result"
    }
   ],
   "source": [
    "myclass"
   ]
  },
  {
   "cell_type": "code",
   "execution_count": 17,
   "id": "a183e6c9-a662-4930-962f-35d9a95af396",
   "metadata": {},
   "outputs": [],
   "source": [
    "a=\"I_am_tushar_kanta parida\""
   ]
  },
  {
   "cell_type": "code",
   "execution_count": 18,
   "id": "47e20589-efa2-4ed4-bf48-e3ec2a7902f7",
   "metadata": {},
   "outputs": [
    {
     "data": {
      "text/plain": [
       "['I', 'am', 'tushar', 'kanta parida']"
      ]
     },
     "execution_count": 18,
     "metadata": {},
     "output_type": "execute_result"
    }
   ],
   "source": [
    "a.split(sep='_')"
   ]
  },
  {
   "cell_type": "code",
   "execution_count": 24,
   "id": "2b81a35c-786c-478b-b383-84d187cb6ed6",
   "metadata": {},
   "outputs": [],
   "source": [
    "s='aBc cbA'"
   ]
  },
  {
   "cell_type": "code",
   "execution_count": 25,
   "id": "b3436a2a-3727-4d93-a6e6-9d14f9a76681",
   "metadata": {},
   "outputs": [
    {
     "data": {
      "text/plain": [
       "'aBc cbA'"
      ]
     },
     "execution_count": 25,
     "metadata": {},
     "output_type": "execute_result"
    }
   ],
   "source": [
    "s"
   ]
  },
  {
   "cell_type": "code",
   "execution_count": 26,
   "id": "574b583f-1fe7-41e5-ab79-55cd919ca816",
   "metadata": {},
   "outputs": [
    {
     "data": {
      "text/plain": [
       "'Abc cba'"
      ]
     },
     "execution_count": 26,
     "metadata": {},
     "output_type": "execute_result"
    }
   ],
   "source": [
    "s.capitalize()"
   ]
  },
  {
   "cell_type": "code",
   "execution_count": 27,
   "id": "cbb09e0f-4899-46ce-8625-f1f7501cb264",
   "metadata": {},
   "outputs": [
    {
     "data": {
      "text/plain": [
       "'Abc cba'"
      ]
     },
     "execution_count": 27,
     "metadata": {},
     "output_type": "execute_result"
    }
   ],
   "source": [
    "s.lower().capitalize()"
   ]
  },
  {
   "cell_type": "code",
   "execution_count": 28,
   "id": "29a7c314-c0a2-419b-aa64-459b24aefdf2",
   "metadata": {},
   "outputs": [
    {
     "data": {
      "text/plain": [
       "'Abc Cba'"
      ]
     },
     "execution_count": 28,
     "metadata": {},
     "output_type": "execute_result"
    }
   ],
   "source": [
    "s.title()"
   ]
  },
  {
   "cell_type": "code",
   "execution_count": 1,
   "id": "8ad1643a-608f-476a-ace1-301fad6b7a44",
   "metadata": {},
   "outputs": [],
   "source": [
    "##FOR LOOP\n",
    "\n",
    "NAMES=['TUSHAR','PRIYA','BIKRAM','SMRUTI','SOUMYA']"
   ]
  },
  {
   "cell_type": "code",
   "execution_count": 10,
   "id": "2ca0f6f8-b7cf-497b-b444-88cc37d64439",
   "metadata": {},
   "outputs": [
    {
     "name": "stdout",
     "output_type": "stream",
     "text": [
      "TUSHAR\n",
      "PRIYA\n",
      "BIKRAM\n",
      "SMRUTI\n",
      "SOUMYA\n"
     ]
    }
   ],
   "source": [
    "for name in NAMES:\n",
    "    print(name)"
   ]
  },
  {
   "cell_type": "code",
   "execution_count": 17,
   "id": "5a161251-5fbe-4a07-9865-ffcdb174b314",
   "metadata": {},
   "outputs": [
    {
     "name": "stdout",
     "output_type": "stream",
     "text": [
      "TUSHAR\n",
      "PRIYA\n",
      "BIKRAM\n",
      "Hey i'm Chadha\n",
      "SMRUTI\n",
      "SOUMYA\n"
     ]
    }
   ],
   "source": [
    "for name in NAMES:\n",
    "    print(name)\n",
    "    if name=='BIKRAM':\n",
    "        print(\"Hey i'm Chadha\")"
   ]
  },
  {
   "cell_type": "code",
   "execution_count": 31,
   "id": "65dd9fb7-40f8-4498-8894-dba2788292d9",
   "metadata": {},
   "outputs": [],
   "source": [
    "NUMBERS=[5,2,6,9,7,-2,-4,8]"
   ]
  },
  {
   "cell_type": "code",
   "execution_count": 30,
   "id": "cad917bd-42f2-4a6e-ac1d-b0eff89df3c7",
   "metadata": {},
   "outputs": [
    {
     "name": "stdout",
     "output_type": "stream",
     "text": [
      "{25}\n",
      "{4}\n",
      "{36}\n",
      "{81}\n",
      "{49}\n",
      "{4}\n",
      "{16}\n",
      "{64}\n"
     ]
    }
   ],
   "source": [
    "for i in NUMBERS:\n",
    "    square= i**2\n",
    "    print(square)"
   ]
  },
  {
   "cell_type": "code",
   "execution_count": 34,
   "id": "3d611566-3ef8-4c93-b933-da1b1bcbed89",
   "metadata": {},
   "outputs": [
    {
     "name": "stdout",
     "output_type": "stream",
     "text": [
      "[25, 4, 36, 81, 49, 4, 16, 64]\n"
     ]
    }
   ],
   "source": [
    "squares=[]\n",
    "for i in NUMBERS:\n",
    "    square= i**2\n",
    "    squares.append(square)\n",
    "print(squares)"
   ]
  },
  {
   "cell_type": "code",
   "execution_count": 39,
   "id": "803e037b-cfc9-43de-88b2-e8b4644298ad",
   "metadata": {},
   "outputs": [
    {
     "name": "stdout",
     "output_type": "stream",
     "text": [
      "hello world\n",
      "hello world\n",
      "hello world\n"
     ]
    }
   ],
   "source": [
    "print(\"hello world\\nhello world\\nhello world\")"
   ]
  },
  {
   "cell_type": "code",
   "execution_count": 43,
   "id": "90faa2ff-f6b2-41aa-a488-abbfce186368",
   "metadata": {},
   "outputs": [
    {
     "name": "stdin",
     "output_type": "stream",
     "text": [
      "What is your name? Tushar\n"
     ]
    },
    {
     "name": "stdout",
     "output_type": "stream",
     "text": [
      "Hey Tushar , how are you\n"
     ]
    }
   ],
   "source": [
    "print(\"Hey\"+\" \"+input(\"What is your name?\")+\" , how are you\")"
   ]
  },
  {
   "cell_type": "code",
   "execution_count": 45,
   "id": "83f3317c-101e-4d91-a07b-bd3b4588a22f",
   "metadata": {},
   "outputs": [
    {
     "name": "stdin",
     "output_type": "stream",
     "text": [
      "What is your name? Tushar\n"
     ]
    },
    {
     "name": "stdout",
     "output_type": "stream",
     "text": [
      "Tushar\n"
     ]
    }
   ],
   "source": [
    "nm=input(\"What is your name?\")\n",
    "print(nm)"
   ]
  },
  {
   "cell_type": "code",
   "execution_count": 1,
   "id": "cda7c6e4-4ea6-452c-ac8d-20f4da5d2eed",
   "metadata": {},
   "outputs": [],
   "source": [
    "name=('Ram')"
   ]
  },
  {
   "cell_type": "code",
   "execution_count": 5,
   "id": "1a815e88-71fe-4808-bae8-6b20b9d481a9",
   "metadata": {},
   "outputs": [],
   "source": [
    "names=(name+\"Hari\")"
   ]
  },
  {
   "cell_type": "code",
   "execution_count": 6,
   "id": "10feba9b-b6ca-4820-abe8-434c98dfef92",
   "metadata": {},
   "outputs": [
    {
     "data": {
      "text/plain": [
       "'Ram'"
      ]
     },
     "execution_count": 6,
     "metadata": {},
     "output_type": "execute_result"
    }
   ],
   "source": [
    "name"
   ]
  },
  {
   "cell_type": "code",
   "execution_count": 7,
   "id": "df69bb28-e1a8-4d0f-9586-fbb06a08be97",
   "metadata": {},
   "outputs": [
    {
     "data": {
      "text/plain": [
       "'RamHari'"
      ]
     },
     "execution_count": 7,
     "metadata": {},
     "output_type": "execute_result"
    }
   ],
   "source": [
    "names"
   ]
  },
  {
   "cell_type": "code",
   "execution_count": 11,
   "id": "ba580e30-9920-4194-923d-3814f980d6fe",
   "metadata": {
    "scrolled": true
   },
   "outputs": [
    {
     "name": "stdin",
     "output_type": "stream",
     "text": [
      "Enter value of a=  2\n",
      "Enter value of b=  3\n"
     ]
    },
    {
     "name": "stdout",
     "output_type": "stream",
     "text": [
      "a=3\n",
      "b=2\n"
     ]
    }
   ],
   "source": [
    "##Swap\n",
    "\n",
    "a=input(\"Enter value of a= \")\n",
    "b=input(\"Enter value of b= \")\n",
    "temp=a\n",
    "a=b\n",
    "b=temp\n",
    "print(\"a=\" + a)\n",
    "print(\"b=\" + b)"
   ]
  },
  {
   "cell_type": "code",
   "execution_count": 16,
   "id": "91d0676b-2e62-4171-8603-907570e54f5b",
   "metadata": {
    "scrolled": true
   },
   "outputs": [
    {
     "data": {
      "text/plain": [
       "'my name is one. this was atwo. where are youthree'"
      ]
     },
     "execution_count": 16,
     "metadata": {},
     "output_type": "execute_result"
    }
   ],
   "source": [
    "\n",
    "    str_1='one'\n",
    "    str_2='two'\n",
    "    str_3='three'\n",
    "\n",
    "f'my name is {str_1}. this was a{str_2}. where are you{str_3}'"
   ]
  },
  {
   "cell_type": "code",
   "execution_count": 20,
   "id": "422a352a-f173-4679-a8d6-be777f432088",
   "metadata": {
    "jupyter": {
     "source_hidden": true
    }
   },
   "outputs": [
    {
     "name": "stdout",
     "output_type": "stream",
     "text": [
      "i am going to bbsr for buying some dresses.\n"
     ]
    }
   ],
   "source": [
    "print('i am going to %s for buying some %s.' %('bbsr','dresses'))"
   ]
  },
  {
   "cell_type": "code",
   "execution_count": 23,
   "id": "ff07f03f-b205-41b4-b17a-ce3f7940dafb",
   "metadata": {
    "jupyter": {
     "source_hidden": true
    }
   },
   "outputs": [],
   "source": [
    "s=['Tushar',14,1.05,\"Chiku\"]"
   ]
  },
  {
   "cell_type": "code",
   "execution_count": 24,
   "id": "8d679618-dc26-4743-9502-2a4fe400681c",
   "metadata": {},
   "outputs": [
    {
     "data": {
      "text/plain": [
       "['Tushar', 14, 1.05, 'Chiku']"
      ]
     },
     "execution_count": 24,
     "metadata": {},
     "output_type": "execute_result"
    }
   ],
   "source": [
    "s"
   ]
  },
  {
   "cell_type": "code",
   "execution_count": 25,
   "id": "14a13e44-eef3-43d9-bcba-1deb71502412",
   "metadata": {},
   "outputs": [],
   "source": [
    "s.append(\"Bikram\")"
   ]
  },
  {
   "cell_type": "code",
   "execution_count": 26,
   "id": "a07c1e5b-6d27-4c96-b3f7-41f47f382235",
   "metadata": {},
   "outputs": [
    {
     "data": {
      "text/plain": [
       "['Tushar', 14, 1.05, 'Chiku', 'Bikram']"
      ]
     },
     "execution_count": 26,
     "metadata": {},
     "output_type": "execute_result"
    }
   ],
   "source": [
    "s"
   ]
  },
  {
   "cell_type": "code",
   "execution_count": 28,
   "id": "3643c9bb-2648-4cf0-8280-0086401920f0",
   "metadata": {},
   "outputs": [],
   "source": [
    "list_1=[1,2,3]\n",
    "list_2=[4,5,6]\n",
    "list_3=[7,8,9]"
   ]
  },
  {
   "cell_type": "code",
   "execution_count": 30,
   "id": "6df7bf07-d55c-495f-885c-916853bfed58",
   "metadata": {
    "jupyter": {
     "source_hidden": true
    }
   },
   "outputs": [],
   "source": [
    "matrix=[list_1,list_2,list_3]"
   ]
  },
  {
   "cell_type": "code",
   "execution_count": 31,
   "id": "00fbfb27-ba32-464a-87b4-17b9dfa237e4",
   "metadata": {
    "collapsed": true,
    "jupyter": {
     "outputs_hidden": true,
     "source_hidden": true
    }
   },
   "outputs": [
    {
     "data": {
      "text/plain": [
       "[[1, 2, 3], [4, 5, 6], [7, 8, 9]]"
      ]
     },
     "execution_count": 31,
     "metadata": {},
     "output_type": "execute_result"
    }
   ],
   "source": [
    "matrix"
   ]
  },
  {
   "cell_type": "code",
   "execution_count": 33,
   "id": "32d5835f-0707-486f-9c3d-24c5443d2884",
   "metadata": {},
   "outputs": [
    {
     "data": {
      "text/plain": [
       "[4, 5, 6]"
      ]
     },
     "execution_count": 33,
     "metadata": {},
     "output_type": "execute_result"
    }
   ],
   "source": [
    "matrix[1]"
   ]
  },
  {
   "cell_type": "code",
   "execution_count": 38,
   "id": "03d15b92-f175-4c0c-903f-65cf6c56f244",
   "metadata": {},
   "outputs": [],
   "source": [
    "##LIST COMPREHENSION\n",
    "lists=('Tushar','Priya','Bikram','Chiku','Smruti','Soumya','Rajashree','Puja')"
   ]
  },
  {
   "cell_type": "code",
   "execution_count": 39,
   "id": "1b781230-953d-47b4-9196-6688067ac1ae",
   "metadata": {},
   "outputs": [],
   "source": [
    "first_col=[names for names in lists]"
   ]
  },
  {
   "cell_type": "code",
   "execution_count": 40,
   "id": "75bf09d1-51a0-4151-bb6a-1255683f9825",
   "metadata": {},
   "outputs": [
    {
     "data": {
      "text/plain": [
       "['Tushar', 'Priya', 'Bikram', 'Chiku', 'Smruti', 'Soumya', 'Rajashree', 'Puja']"
      ]
     },
     "execution_count": 40,
     "metadata": {},
     "output_type": "execute_result"
    }
   ],
   "source": [
    "first_col"
   ]
  },
  {
   "cell_type": "code",
   "execution_count": 41,
   "id": "46148ad2-7321-40a4-b9e4-7e50e1bef3da",
   "metadata": {},
   "outputs": [],
   "source": [
    "obj=[[1,2,3],[4,5,6],[7,8,9]]"
   ]
  },
  {
   "cell_type": "code",
   "execution_count": 42,
   "id": "fe136b7c-9f0e-4c8d-855f-bc1956792795",
   "metadata": {},
   "outputs": [],
   "source": [
    "##Insert Function\n",
    "obj.insert(1,('Tushar','Priya'))"
   ]
  },
  {
   "cell_type": "code",
   "execution_count": 43,
   "id": "52af9712-1f2d-4fbb-8c29-0ddce93b7ebf",
   "metadata": {},
   "outputs": [
    {
     "data": {
      "text/plain": [
       "[[1, 2, 3], ('Tushar', 'Priya'), [4, 5, 6], [7, 8, 9]]"
      ]
     },
     "execution_count": 43,
     "metadata": {},
     "output_type": "execute_result"
    }
   ],
   "source": [
    "obj"
   ]
  },
  {
   "cell_type": "code",
   "execution_count": 14,
   "id": "32824f28-04a4-4ad0-9bfb-f0c1f742ee24",
   "metadata": {},
   "outputs": [
    {
     "name": "stdin",
     "output_type": "stream",
     "text": [
      "please enter your place name? Bank\n"
     ]
    },
    {
     "name": "stdout",
     "output_type": "stream",
     "text": [
      "Welcome to the bank!\n"
     ]
    }
   ],
   "source": [
    "loc = input('please enter your place name?')\n",
    "\n",
    "if loc == 'Auto Shop':\n",
    "    print('Welcome to the Auto Shop!')\n",
    "elif loc == 'Bank':\n",
    "    print('Welcome to the bank!')\n",
    "else:\n",
    "    print('Where are you?')"
   ]
  },
  {
   "cell_type": "code",
   "execution_count": 19,
   "id": "ca6c9902-1cb7-44f9-9d14-c9424310a5c5",
   "metadata": {},
   "outputs": [
    {
     "name": "stdout",
     "output_type": "stream",
     "text": [
      "Welcome George!\n"
     ]
    }
   ],
   "source": [
    "\n",
    "person = 'George'\n",
    "\n",
    "if person == 'Sammy':\n",
    "    print('Welcome Sammy!')\n",
    "elif person =='George':\n",
    "    print('Welcome George!')\n",
    "else:\n",
    "    print(\"Welcome, what's your name?\")\n",
    "\n",
    "    "
   ]
  },
  {
   "cell_type": "code",
   "execution_count": 4,
   "id": "76f3f1a5-9a5c-4d51-b199-6f666f8922fd",
   "metadata": {},
   "outputs": [],
   "source": [
    "list1 = [1,2,3,4,5,6,7,8,9,10]"
   ]
  },
  {
   "cell_type": "code",
   "execution_count": 21,
   "id": "a38d77a7-3aec-44fb-a4ea-736dccb630e0",
   "metadata": {},
   "outputs": [
    {
     "name": "stdout",
     "output_type": "stream",
     "text": [
      "2\n",
      "4\n",
      "6\n",
      "8\n",
      "10\n"
     ]
    }
   ],
   "source": [
    "for num in list1:\n",
    "    if num % 2 == 0:\n",
    "        print(num)"
   ]
  },
  {
   "cell_type": "code",
   "execution_count": null,
   "id": "93761152-c10d-47e9-9b08-04a3e9b3729d",
   "metadata": {},
   "outputs": [],
   "source": [
    "names=input(\"What is your name?\")\n",
    "location=input(\"Where are you from?\")\n",
    "\n",
    "def identity(names,location):\n",
    "    print(f\"My name is {names} from {location}\")\n",
    "    \n",
    "identity(names,location)"
   ]
  },
  {
   "cell_type": "code",
   "execution_count": null,
   "id": "e11e40d7-c921-467e-bcab-f513ee0df728",
   "metadata": {},
   "outputs": [],
   "source": []
  },
  {
   "cell_type": "code",
   "execution_count": 2,
   "id": "6d5a37ad-e099-42ba-b787-2264d722f8e5",
   "metadata": {},
   "outputs": [],
   "source": [
    "##OOP"
   ]
  },
  {
   "cell_type": "code",
   "execution_count": 7,
   "id": "f23c001d-27ce-4a6b-a8aa-a13b2efa17b9",
   "metadata": {},
   "outputs": [],
   "source": [
    "class play:\n",
    "    def __init__(tkp,name,age,gender,country):\n",
    "        tkp.name=name\n",
    "        tkp.age=age\n",
    "        tkp.gender=gender\n",
    "        tkp.country=country"
   ]
  },
  {
   "cell_type": "code",
   "execution_count": 11,
   "id": "9e771d65-ab9a-4f0c-884a-efdbd089bc82",
   "metadata": {},
   "outputs": [],
   "source": [
    "##Instantiating\n",
    "ply=play('Tushar',28,'Male','India')"
   ]
  },
  {
   "cell_type": "code",
   "execution_count": 12,
   "id": "d749e9c8-21e1-417d-9aef-9c5d7c9e66d9",
   "metadata": {},
   "outputs": [
    {
     "data": {
      "text/plain": [
       "<__main__.play at 0x20cdde81220>"
      ]
     },
     "execution_count": 12,
     "metadata": {},
     "output_type": "execute_result"
    }
   ],
   "source": [
    "ply"
   ]
  },
  {
   "cell_type": "code",
   "execution_count": 13,
   "id": "788b8bfa-61fc-445a-80fb-e54f68eed18b",
   "metadata": {},
   "outputs": [
    {
     "data": {
      "text/plain": [
       "'India'"
      ]
     },
     "execution_count": 13,
     "metadata": {},
     "output_type": "execute_result"
    }
   ],
   "source": [
    "ply.country"
   ]
  },
  {
   "cell_type": "code",
   "execution_count": 14,
   "id": "e48f9d95-1d75-4363-896d-ac0c8908dc58",
   "metadata": {},
   "outputs": [
    {
     "data": {
      "text/plain": [
       "28"
      ]
     },
     "execution_count": 14,
     "metadata": {},
     "output_type": "execute_result"
    }
   ],
   "source": [
    "ply.age"
   ]
  },
  {
   "cell_type": "code",
   "execution_count": null,
   "id": "a8747ebc-a537-42a3-a614-2460d5f56a55",
   "metadata": {},
   "outputs": [],
   "source": []
  }
 ],
 "metadata": {
  "kernelspec": {
   "display_name": "Python 3 (ipykernel)",
   "language": "python",
   "name": "python3"
  },
  "language_info": {
   "codemirror_mode": {
    "name": "ipython",
    "version": 3
   },
   "file_extension": ".py",
   "mimetype": "text/x-python",
   "name": "python",
   "nbconvert_exporter": "python",
   "pygments_lexer": "ipython3",
   "version": "3.12.0"
  }
 },
 "nbformat": 4,
 "nbformat_minor": 5
}
